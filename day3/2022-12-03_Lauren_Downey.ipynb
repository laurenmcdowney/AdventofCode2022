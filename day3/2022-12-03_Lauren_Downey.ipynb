{
 "cells": [
  {
   "cell_type": "code",
   "execution_count": 1,
   "metadata": {},
   "outputs": [
    {
     "name": "stderr",
     "output_type": "stream",
     "text": [
      "C:\\Program Files\\Anaconda\\lib\\site-packages\\pandas\\compat\\_optional.py:138: UserWarning: Pandas requires version '2.7.0' or newer of 'numexpr' (version '2.6.8' currently installed).\n",
      "  warnings.warn(msg, UserWarning)\n"
     ]
    }
   ],
   "source": [
    "import pandas as pd\n",
    "import string"
   ]
  },
  {
   "cell_type": "code",
   "execution_count": 2,
   "metadata": {},
   "outputs": [],
   "source": [
    "# Read data from txt file into a list\n",
    "filename = 'AOC_day3_puzzle_input_Downey.txt'\n",
    "\n",
    "with open(filename) as f:\n",
    "    inventory = [line.rstrip('\\n') for line in f]"
   ]
  },
  {
   "cell_type": "markdown",
   "metadata": {},
   "source": [
    "#### Puzzle 1"
   ]
  },
  {
   "cell_type": "code",
   "execution_count": 3,
   "metadata": {},
   "outputs": [],
   "source": [
    "# Create dataframe via list of lists\n",
    "df = pd.DataFrame([[i[:len(i)//2], i[len(i)//2:]] for i in inventory], columns=['comp_1', 'comp_2'])"
   ]
  },
  {
   "cell_type": "code",
   "execution_count": 4,
   "metadata": {},
   "outputs": [],
   "source": [
    "# Convert each compartment into a list of items\n",
    "\n",
    "def list_items(x):\n",
    "    list1 = []\n",
    "    list1[:0] = x\n",
    "    return list1\n",
    "\n",
    "df['comp_1_list'] = df['comp_1'].apply(list_items)\n",
    "df['comp_2_list'] = df['comp_2'].apply(list_items)"
   ]
  },
  {
   "cell_type": "code",
   "execution_count": 5,
   "metadata": {},
   "outputs": [],
   "source": [
    "# Find the common item in both compartments\n",
    "\n",
    "def common_item(x,y):\n",
    "    result = max(i for i in x if i in y)\n",
    "    return result\n",
    "\n",
    "df['common_item'] = df.apply(lambda x: common_item(x.comp_1_list, x.comp_2_list), axis=1)\n",
    "df['common_item'] = df['common_item'].astype(\"string\")"
   ]
  },
  {
   "cell_type": "code",
   "execution_count": 6,
   "metadata": {
    "scrolled": true
   },
   "outputs": [],
   "source": [
    "# Look up the item priority\n",
    "\n",
    "def priority(x):\n",
    "    if x in string.ascii_lowercase:\n",
    "        return string.ascii_lowercase.index(x) + 1\n",
    "    elif x in string.ascii_uppercase:\n",
    "        return string.ascii_uppercase.index(x) + 27\n",
    "    else:\n",
    "        return 0\n",
    "\n",
    "df['item_priority'] = df['common_item'].apply(priority)"
   ]
  },
  {
   "cell_type": "code",
   "execution_count": 7,
   "metadata": {
    "scrolled": true
   },
   "outputs": [
    {
     "data": {
      "text/plain": [
       "7701"
      ]
     },
     "execution_count": 7,
     "metadata": {},
     "output_type": "execute_result"
    }
   ],
   "source": [
    "# Calculate sum of priority\n",
    "sum(df['item_priority'])"
   ]
  },
  {
   "cell_type": "markdown",
   "metadata": {},
   "source": [
    "#### Puzzle 2"
   ]
  },
  {
   "cell_type": "code",
   "execution_count": 8,
   "metadata": {},
   "outputs": [],
   "source": [
    "# Split the original list on every third element and create a dataframe\n",
    "df2 = pd.DataFrame(list(zip(*[iter(inventory)]*3)), columns=['elf_1', 'elf_2', 'elf_3'])"
   ]
  },
  {
   "cell_type": "code",
   "execution_count": 9,
   "metadata": {},
   "outputs": [],
   "source": [
    "# Convert each rucksack into a list of items\n",
    "\n",
    "df2['elf_1_list'] = df2['elf_1'].apply(list_items)\n",
    "df2['elf_2_list'] = df2['elf_2'].apply(list_items)\n",
    "df2['elf_3_list'] = df2['elf_3'].apply(list_items)"
   ]
  },
  {
   "cell_type": "code",
   "execution_count": 10,
   "metadata": {},
   "outputs": [],
   "source": [
    "# Find the common item in both compartments - new function w/ 3 args\n",
    "\n",
    "def common_item2(x,y,z):\n",
    "    result = max(i for i in x if (i in y and i in z))\n",
    "    return result\n",
    "\n",
    "df2['common_item'] = df2.apply(lambda x: common_item2(x.elf_1_list, x.elf_2_list, x.elf_3_list), axis=1)\n",
    "df2['common_item'] = df2['common_item'].astype(\"string\")"
   ]
  },
  {
   "cell_type": "code",
   "execution_count": 11,
   "metadata": {
    "scrolled": true
   },
   "outputs": [],
   "source": [
    "# Look up the item priority\n",
    "\n",
    "df2['item_priority'] = df2['common_item'].apply(priority)"
   ]
  },
  {
   "cell_type": "code",
   "execution_count": 12,
   "metadata": {
    "scrolled": true
   },
   "outputs": [
    {
     "data": {
      "text/plain": [
       "2644"
      ]
     },
     "execution_count": 12,
     "metadata": {},
     "output_type": "execute_result"
    }
   ],
   "source": [
    "# Calculate sum of priority\n",
    "sum(df2['item_priority'])"
   ]
  },
  {
   "cell_type": "code",
   "execution_count": 15,
   "metadata": {
    "scrolled": true
   },
   "outputs": [
    {
     "data": {
      "text/html": [
       "<div>\n",
       "<style scoped>\n",
       "    .dataframe tbody tr th:only-of-type {\n",
       "        vertical-align: middle;\n",
       "    }\n",
       "\n",
       "    .dataframe tbody tr th {\n",
       "        vertical-align: top;\n",
       "    }\n",
       "\n",
       "    .dataframe thead th {\n",
       "        text-align: right;\n",
       "    }\n",
       "</style>\n",
       "<table border=\"1\" class=\"dataframe\">\n",
       "  <thead>\n",
       "    <tr style=\"text-align: right;\">\n",
       "      <th></th>\n",
       "      <th>comp_1</th>\n",
       "      <th>comp_2</th>\n",
       "      <th>comp_1_list</th>\n",
       "      <th>comp_2_list</th>\n",
       "      <th>common_item</th>\n",
       "      <th>item_priority</th>\n",
       "    </tr>\n",
       "  </thead>\n",
       "  <tbody>\n",
       "    <tr>\n",
       "      <th>0</th>\n",
       "      <td>MVWpzTTrT</td>\n",
       "      <td>FNNLtssjV</td>\n",
       "      <td>[M, V, W, p, z, T, T, r, T]</td>\n",
       "      <td>[F, N, N, L, t, s, s, j, V]</td>\n",
       "      <td>V</td>\n",
       "      <td>48</td>\n",
       "    </tr>\n",
       "    <tr>\n",
       "      <th>1</th>\n",
       "      <td>hRJncnJCnhPCnBSbCQRhhQRP</td>\n",
       "      <td>FHmsbHLzbLNHsjNNFmGGGsGF</td>\n",
       "      <td>[h, R, J, n, c, n, J, C, n, h, P, C, n, B, S, ...</td>\n",
       "      <td>[F, H, m, s, b, H, L, z, b, L, N, H, s, j, N, ...</td>\n",
       "      <td>b</td>\n",
       "      <td>2</td>\n",
       "    </tr>\n",
       "    <tr>\n",
       "      <th>2</th>\n",
       "      <td>lSBQJBBBBcnccnQvBnPQzn</td>\n",
       "      <td>frgwlrTZfDwTfWqrrpgMpw</td>\n",
       "      <td>[l, S, B, Q, J, B, B, B, B, c, n, c, c, n, Q, ...</td>\n",
       "      <td>[f, r, g, w, l, r, T, Z, f, D, w, T, f, W, q, ...</td>\n",
       "      <td>l</td>\n",
       "      <td>12</td>\n",
       "    </tr>\n",
       "    <tr>\n",
       "      <th>3</th>\n",
       "      <td>sRPgrzSgrSbfTrgspBPs</td>\n",
       "      <td>DWWTmdnvdZWZwTmwvdmd</td>\n",
       "      <td>[s, R, P, g, r, z, S, g, r, S, b, f, T, r, g, ...</td>\n",
       "      <td>[D, W, W, T, m, d, n, v, d, Z, W, Z, w, T, m, ...</td>\n",
       "      <td>T</td>\n",
       "      <td>46</td>\n",
       "    </tr>\n",
       "    <tr>\n",
       "      <th>4</th>\n",
       "      <td>tVGpCGqCGjlHcNGVNH</td>\n",
       "      <td>ZDmnZMWdWMWCdZDvnZ</td>\n",
       "      <td>[t, V, G, p, C, G, q, C, G, j, l, H, c, N, G, ...</td>\n",
       "      <td>[Z, D, m, n, Z, M, W, d, W, M, W, C, d, Z, D, ...</td>\n",
       "      <td>C</td>\n",
       "      <td>29</td>\n",
       "    </tr>\n",
       "  </tbody>\n",
       "</table>\n",
       "</div>"
      ],
      "text/plain": [
       "                     comp_1                    comp_2  \\\n",
       "0                 MVWpzTTrT                 FNNLtssjV   \n",
       "1  hRJncnJCnhPCnBSbCQRhhQRP  FHmsbHLzbLNHsjNNFmGGGsGF   \n",
       "2    lSBQJBBBBcnccnQvBnPQzn    frgwlrTZfDwTfWqrrpgMpw   \n",
       "3      sRPgrzSgrSbfTrgspBPs      DWWTmdnvdZWZwTmwvdmd   \n",
       "4        tVGpCGqCGjlHcNGVNH        ZDmnZMWdWMWCdZDvnZ   \n",
       "\n",
       "                                         comp_1_list  \\\n",
       "0                        [M, V, W, p, z, T, T, r, T]   \n",
       "1  [h, R, J, n, c, n, J, C, n, h, P, C, n, B, S, ...   \n",
       "2  [l, S, B, Q, J, B, B, B, B, c, n, c, c, n, Q, ...   \n",
       "3  [s, R, P, g, r, z, S, g, r, S, b, f, T, r, g, ...   \n",
       "4  [t, V, G, p, C, G, q, C, G, j, l, H, c, N, G, ...   \n",
       "\n",
       "                                         comp_2_list common_item  \\\n",
       "0                        [F, N, N, L, t, s, s, j, V]           V   \n",
       "1  [F, H, m, s, b, H, L, z, b, L, N, H, s, j, N, ...           b   \n",
       "2  [f, r, g, w, l, r, T, Z, f, D, w, T, f, W, q, ...           l   \n",
       "3  [D, W, W, T, m, d, n, v, d, Z, W, Z, w, T, m, ...           T   \n",
       "4  [Z, D, m, n, Z, M, W, d, W, M, W, C, d, Z, D, ...           C   \n",
       "\n",
       "   item_priority  \n",
       "0             48  \n",
       "1              2  \n",
       "2             12  \n",
       "3             46  \n",
       "4             29  "
      ]
     },
     "execution_count": 15,
     "metadata": {},
     "output_type": "execute_result"
    }
   ],
   "source": [
    "df.head()"
   ]
  },
  {
   "cell_type": "code",
   "execution_count": 16,
   "metadata": {
    "scrolled": true
   },
   "outputs": [
    {
     "data": {
      "text/html": [
       "<div>\n",
       "<style scoped>\n",
       "    .dataframe tbody tr th:only-of-type {\n",
       "        vertical-align: middle;\n",
       "    }\n",
       "\n",
       "    .dataframe tbody tr th {\n",
       "        vertical-align: top;\n",
       "    }\n",
       "\n",
       "    .dataframe thead th {\n",
       "        text-align: right;\n",
       "    }\n",
       "</style>\n",
       "<table border=\"1\" class=\"dataframe\">\n",
       "  <thead>\n",
       "    <tr style=\"text-align: right;\">\n",
       "      <th></th>\n",
       "      <th>elf_1</th>\n",
       "      <th>elf_2</th>\n",
       "      <th>elf_3</th>\n",
       "      <th>elf_1_list</th>\n",
       "      <th>elf_2_list</th>\n",
       "      <th>elf_3_list</th>\n",
       "      <th>common_item</th>\n",
       "      <th>item_priority</th>\n",
       "    </tr>\n",
       "  </thead>\n",
       "  <tbody>\n",
       "    <tr>\n",
       "      <th>0</th>\n",
       "      <td>MVWpzTTrTFNNLtssjV</td>\n",
       "      <td>hRJncnJCnhPCnBSbCQRhhQRPFHmsbHLzbLNHsjNNFmGGGsGF</td>\n",
       "      <td>lSBQJBBBBcnccnQvBnPQznfrgwlrTZfDwTfWqrrpgMpw</td>\n",
       "      <td>[M, V, W, p, z, T, T, r, T, F, N, N, L, t, s, ...</td>\n",
       "      <td>[h, R, J, n, c, n, J, C, n, h, P, C, n, B, S, ...</td>\n",
       "      <td>[l, S, B, Q, J, B, B, B, B, c, n, c, c, n, Q, ...</td>\n",
       "      <td>z</td>\n",
       "      <td>26</td>\n",
       "    </tr>\n",
       "    <tr>\n",
       "      <th>1</th>\n",
       "      <td>sRPgrzSgrSbfTrgspBPsDWWTmdnvdZWZwTmwvdmd</td>\n",
       "      <td>tVGpCGqCGjlHcNGVNHZDmnZMWdWMWCdZDvnZ</td>\n",
       "      <td>HqpQptLlclLGtlpcjHNhQqfRhrSBrrbfbrSRrsPfBSgg</td>\n",
       "      <td>[s, R, P, g, r, z, S, g, r, S, b, f, T, r, g, ...</td>\n",
       "      <td>[t, V, G, p, C, G, q, C, G, j, l, H, c, N, G, ...</td>\n",
       "      <td>[H, q, p, Q, p, t, L, l, c, l, L, G, t, l, p, ...</td>\n",
       "      <td>p</td>\n",
       "      <td>16</td>\n",
       "    </tr>\n",
       "    <tr>\n",
       "      <th>2</th>\n",
       "      <td>JpjLbQbFPBjDBBJLWltglfBfhhlcctht</td>\n",
       "      <td>vNFmsdFsnmzGtWvgzhzc</td>\n",
       "      <td>rqwRCCqmCTqHCnqRNTNFsJVMQSjLRbbVVbjQVLbLSV</td>\n",
       "      <td>[J, p, j, L, b, Q, b, F, P, B, j, D, B, B, J, ...</td>\n",
       "      <td>[v, N, F, m, s, d, F, s, n, m, z, G, t, W, v, ...</td>\n",
       "      <td>[r, q, w, R, C, C, q, m, C, T, q, H, C, n, q, ...</td>\n",
       "      <td>F</td>\n",
       "      <td>32</td>\n",
       "    </tr>\n",
       "    <tr>\n",
       "      <th>3</th>\n",
       "      <td>mLNNCNDwBwDnmCwnJwLRvdlqZclRccsgvcZndc</td>\n",
       "      <td>QWMtVWbpVlgHHcgMHs</td>\n",
       "      <td>VsTVWhThsVQWzjtQPpVWjWbpwJNCJDCzSNNCCCSfmfBCSGLL</td>\n",
       "      <td>[m, L, N, N, C, N, D, w, B, w, D, n, m, C, w, ...</td>\n",
       "      <td>[Q, W, M, t, V, W, b, p, V, l, g, H, H, c, g, ...</td>\n",
       "      <td>[V, s, T, V, W, h, T, h, s, V, Q, W, z, j, t, ...</td>\n",
       "      <td>s</td>\n",
       "      <td>19</td>\n",
       "    </tr>\n",
       "    <tr>\n",
       "      <th>4</th>\n",
       "      <td>NbSfHnwDvwwfHwwQsHbWPgrsZsZjRPLRgLWhWP</td>\n",
       "      <td>lmMlTGFzVmzqjGLLZWWGhrCh</td>\n",
       "      <td>qFclMprqmrvbcnwDQtNQ</td>\n",
       "      <td>[N, b, S, f, H, n, w, D, v, w, w, f, H, w, w, ...</td>\n",
       "      <td>[l, m, M, l, T, G, F, z, V, m, z, q, j, G, L, ...</td>\n",
       "      <td>[q, F, c, l, M, p, r, q, m, r, v, b, c, n, w, ...</td>\n",
       "      <td>r</td>\n",
       "      <td>18</td>\n",
       "    </tr>\n",
       "  </tbody>\n",
       "</table>\n",
       "</div>"
      ],
      "text/plain": [
       "                                      elf_1  \\\n",
       "0                        MVWpzTTrTFNNLtssjV   \n",
       "1  sRPgrzSgrSbfTrgspBPsDWWTmdnvdZWZwTmwvdmd   \n",
       "2          JpjLbQbFPBjDBBJLWltglfBfhhlcctht   \n",
       "3    mLNNCNDwBwDnmCwnJwLRvdlqZclRccsgvcZndc   \n",
       "4    NbSfHnwDvwwfHwwQsHbWPgrsZsZjRPLRgLWhWP   \n",
       "\n",
       "                                              elf_2  \\\n",
       "0  hRJncnJCnhPCnBSbCQRhhQRPFHmsbHLzbLNHsjNNFmGGGsGF   \n",
       "1              tVGpCGqCGjlHcNGVNHZDmnZMWdWMWCdZDvnZ   \n",
       "2                              vNFmsdFsnmzGtWvgzhzc   \n",
       "3                                QWMtVWbpVlgHHcgMHs   \n",
       "4                          lmMlTGFzVmzqjGLLZWWGhrCh   \n",
       "\n",
       "                                              elf_3  \\\n",
       "0      lSBQJBBBBcnccnQvBnPQznfrgwlrTZfDwTfWqrrpgMpw   \n",
       "1      HqpQptLlclLGtlpcjHNhQqfRhrSBrrbfbrSRrsPfBSgg   \n",
       "2        rqwRCCqmCTqHCnqRNTNFsJVMQSjLRbbVVbjQVLbLSV   \n",
       "3  VsTVWhThsVQWzjtQPpVWjWbpwJNCJDCzSNNCCCSfmfBCSGLL   \n",
       "4                              qFclMprqmrvbcnwDQtNQ   \n",
       "\n",
       "                                          elf_1_list  \\\n",
       "0  [M, V, W, p, z, T, T, r, T, F, N, N, L, t, s, ...   \n",
       "1  [s, R, P, g, r, z, S, g, r, S, b, f, T, r, g, ...   \n",
       "2  [J, p, j, L, b, Q, b, F, P, B, j, D, B, B, J, ...   \n",
       "3  [m, L, N, N, C, N, D, w, B, w, D, n, m, C, w, ...   \n",
       "4  [N, b, S, f, H, n, w, D, v, w, w, f, H, w, w, ...   \n",
       "\n",
       "                                          elf_2_list  \\\n",
       "0  [h, R, J, n, c, n, J, C, n, h, P, C, n, B, S, ...   \n",
       "1  [t, V, G, p, C, G, q, C, G, j, l, H, c, N, G, ...   \n",
       "2  [v, N, F, m, s, d, F, s, n, m, z, G, t, W, v, ...   \n",
       "3  [Q, W, M, t, V, W, b, p, V, l, g, H, H, c, g, ...   \n",
       "4  [l, m, M, l, T, G, F, z, V, m, z, q, j, G, L, ...   \n",
       "\n",
       "                                          elf_3_list common_item  \\\n",
       "0  [l, S, B, Q, J, B, B, B, B, c, n, c, c, n, Q, ...           z   \n",
       "1  [H, q, p, Q, p, t, L, l, c, l, L, G, t, l, p, ...           p   \n",
       "2  [r, q, w, R, C, C, q, m, C, T, q, H, C, n, q, ...           F   \n",
       "3  [V, s, T, V, W, h, T, h, s, V, Q, W, z, j, t, ...           s   \n",
       "4  [q, F, c, l, M, p, r, q, m, r, v, b, c, n, w, ...           r   \n",
       "\n",
       "   item_priority  \n",
       "0             26  \n",
       "1             16  \n",
       "2             32  \n",
       "3             19  \n",
       "4             18  "
      ]
     },
     "execution_count": 16,
     "metadata": {},
     "output_type": "execute_result"
    }
   ],
   "source": [
    "df2.head()"
   ]
  }
 ],
 "metadata": {
  "kernelspec": {
   "display_name": "Python 3",
   "language": "python",
   "name": "python3"
  },
  "language_info": {
   "codemirror_mode": {
    "name": "ipython",
    "version": 3
   },
   "file_extension": ".py",
   "mimetype": "text/x-python",
   "name": "python",
   "nbconvert_exporter": "python",
   "pygments_lexer": "ipython3",
   "version": "3.7.1"
  }
 },
 "nbformat": 4,
 "nbformat_minor": 2
}
