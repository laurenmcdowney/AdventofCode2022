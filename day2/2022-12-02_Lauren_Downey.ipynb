{
 "cells": [
  {
   "cell_type": "code",
   "execution_count": 1,
   "metadata": {},
   "outputs": [
    {
     "name": "stderr",
     "output_type": "stream",
     "text": [
      "C:\\Program Files\\Anaconda\\lib\\site-packages\\pandas\\compat\\_optional.py:138: UserWarning: Pandas requires version '2.7.0' or newer of 'numexpr' (version '2.6.8' currently installed).\n",
      "  warnings.warn(msg, UserWarning)\n"
     ]
    }
   ],
   "source": [
    "import pandas as pd\n",
    "import numpy as np"
   ]
  },
  {
   "cell_type": "markdown",
   "metadata": {},
   "source": [
    "#### Puzzle 1"
   ]
  },
  {
   "cell_type": "code",
   "execution_count": 2,
   "metadata": {},
   "outputs": [],
   "source": [
    "# Read data from txt file into a dataframe via list of lists\n",
    "filename = 'AOC_day2_puzzle_input_Downey.txt'\n",
    "\n",
    "with open(filename) as f:\n",
    "    df = pd.DataFrame([line.rstrip('\\n').split() for line in f], columns=['guide1','guide2'])"
   ]
  },
  {
   "cell_type": "code",
   "execution_count": 3,
   "metadata": {},
   "outputs": [],
   "source": [
    "# Create keys\n",
    "g1_key = {\"A\":1, \"B\":2, \"C\":3}\n",
    "g2_key = {\"X\":1, \"Y\":2, \"Z\":3}"
   ]
  },
  {
   "cell_type": "code",
   "execution_count": 4,
   "metadata": {},
   "outputs": [],
   "source": [
    "# Create pick score columns from keys\n",
    "df['opp_pick_score'] = df['guide1'].map(g1_key)\n",
    "df['my_pick_score'] = df['guide2'].map(g2_key)"
   ]
  },
  {
   "cell_type": "code",
   "execution_count": 5,
   "metadata": {},
   "outputs": [],
   "source": [
    "# Create the outcome score column\n",
    "def outcome(x):\n",
    "    if x['opp_pick_score'] == x['my_pick_score']: #same picks are a draw\n",
    "        return 3\n",
    "    elif x['opp_pick_score'] == 3 and x['my_pick_score'] == 1: #scissors-rock I win\n",
    "        return 6\n",
    "    elif x['opp_pick_score'] == 1 and x['my_pick_score'] == 3: #rock-scissors I lose\n",
    "        return 0\n",
    "    elif x['opp_pick_score'] > x['my_pick_score']: #paper-rock or scissors-paper I lose\n",
    "        return 0\n",
    "    elif x['opp_pick_score'] < x['my_pick_score']: #rock-paper or paper-scissors I win\n",
    "        return 6\n",
    "    else: return -1 #in case I missed a scenario\n",
    "\n",
    "df['outcome_score'] = df.apply(outcome, axis = 1)"
   ]
  },
  {
   "cell_type": "code",
   "execution_count": 6,
   "metadata": {
    "scrolled": true
   },
   "outputs": [],
   "source": [
    "#did I miss a scenario?\n",
    "#df['outcome_score'].describe()"
   ]
  },
  {
   "cell_type": "code",
   "execution_count": 7,
   "metadata": {},
   "outputs": [],
   "source": [
    "# Create the round score column\n",
    "df['round_score'] = df['my_pick_score'] + df['outcome_score']"
   ]
  },
  {
   "cell_type": "code",
   "execution_count": 8,
   "metadata": {
    "scrolled": true
   },
   "outputs": [
    {
     "data": {
      "text/plain": [
       "12855"
      ]
     },
     "execution_count": 8,
     "metadata": {},
     "output_type": "execute_result"
    }
   ],
   "source": [
    "# Calculate total score\n",
    "sum(df['round_score'])"
   ]
  },
  {
   "cell_type": "markdown",
   "metadata": {},
   "source": [
    "#### Puzzle 2"
   ]
  },
  {
   "cell_type": "code",
   "execution_count": 9,
   "metadata": {},
   "outputs": [],
   "source": [
    "# OKAYYY guess we're gonna redo this, pesky elves\n",
    "# Here are the scenarios...\n",
    "# AZ = rock win -> paper (2)\n",
    "# AX = rock lose -> scissors (3)\n",
    "# AY = rock draw -> rock (1)\n",
    "# BZ = paper win -> scissors (3)\n",
    "# BX = paper lose -> rock (1)\n",
    "# BY = paper draw -> paper (2)\n",
    "# CZ = scissors win -> rock (1)\n",
    "# CX =scissors lose -> paper (2)\n",
    "# CY = scissors draw -> scissors (3)"
   ]
  },
  {
   "cell_type": "code",
   "execution_count": 10,
   "metadata": {},
   "outputs": [],
   "source": [
    "# Make a combined column\n",
    "df['guide_combo'] = df['guide1'] + df['guide2']"
   ]
  },
  {
   "cell_type": "code",
   "execution_count": 11,
   "metadata": {},
   "outputs": [],
   "source": [
    "# Change my pick score column to determine what my pick would be based on guide2 as desired result\n",
    "mypick_key = {\"AZ\":2, \"AX\":3, \"AY\":1, \"BZ\":3, \"BX\":1, \"BY\":2, \"CZ\":1, \"CX\":2, \"CY\":3}\n",
    "df['my_pick_score'] = df['guide_combo'].map(mypick_key)"
   ]
  },
  {
   "cell_type": "code",
   "execution_count": 12,
   "metadata": {},
   "outputs": [],
   "source": [
    "# Update the outcome score and round scores\n",
    "df['outcome_score'] = df.apply(outcome, axis = 1)\n",
    "df['round_score'] = df['my_pick_score'] + df['outcome_score']"
   ]
  },
  {
   "cell_type": "code",
   "execution_count": 13,
   "metadata": {
    "scrolled": true
   },
   "outputs": [
    {
     "data": {
      "text/plain": [
       "13726"
      ]
     },
     "execution_count": 13,
     "metadata": {},
     "output_type": "execute_result"
    }
   ],
   "source": [
    "# Calculate total score\n",
    "sum(df['round_score'])"
   ]
  },
  {
   "cell_type": "code",
   "execution_count": 14,
   "metadata": {},
   "outputs": [
    {
     "data": {
      "text/html": [
       "<div>\n",
       "<style scoped>\n",
       "    .dataframe tbody tr th:only-of-type {\n",
       "        vertical-align: middle;\n",
       "    }\n",
       "\n",
       "    .dataframe tbody tr th {\n",
       "        vertical-align: top;\n",
       "    }\n",
       "\n",
       "    .dataframe thead th {\n",
       "        text-align: right;\n",
       "    }\n",
       "</style>\n",
       "<table border=\"1\" class=\"dataframe\">\n",
       "  <thead>\n",
       "    <tr style=\"text-align: right;\">\n",
       "      <th></th>\n",
       "      <th>guide1</th>\n",
       "      <th>guide2</th>\n",
       "      <th>opp_pick_score</th>\n",
       "      <th>my_pick_score</th>\n",
       "      <th>outcome_score</th>\n",
       "      <th>round_score</th>\n",
       "      <th>guide_combo</th>\n",
       "    </tr>\n",
       "  </thead>\n",
       "  <tbody>\n",
       "    <tr>\n",
       "      <th>0</th>\n",
       "      <td>A</td>\n",
       "      <td>Z</td>\n",
       "      <td>1</td>\n",
       "      <td>2</td>\n",
       "      <td>6</td>\n",
       "      <td>8</td>\n",
       "      <td>AZ</td>\n",
       "    </tr>\n",
       "    <tr>\n",
       "      <th>1</th>\n",
       "      <td>A</td>\n",
       "      <td>Z</td>\n",
       "      <td>1</td>\n",
       "      <td>2</td>\n",
       "      <td>6</td>\n",
       "      <td>8</td>\n",
       "      <td>AZ</td>\n",
       "    </tr>\n",
       "    <tr>\n",
       "      <th>2</th>\n",
       "      <td>C</td>\n",
       "      <td>Y</td>\n",
       "      <td>3</td>\n",
       "      <td>3</td>\n",
       "      <td>3</td>\n",
       "      <td>6</td>\n",
       "      <td>CY</td>\n",
       "    </tr>\n",
       "    <tr>\n",
       "      <th>3</th>\n",
       "      <td>A</td>\n",
       "      <td>X</td>\n",
       "      <td>1</td>\n",
       "      <td>3</td>\n",
       "      <td>0</td>\n",
       "      <td>3</td>\n",
       "      <td>AX</td>\n",
       "    </tr>\n",
       "    <tr>\n",
       "      <th>4</th>\n",
       "      <td>A</td>\n",
       "      <td>X</td>\n",
       "      <td>1</td>\n",
       "      <td>3</td>\n",
       "      <td>0</td>\n",
       "      <td>3</td>\n",
       "      <td>AX</td>\n",
       "    </tr>\n",
       "  </tbody>\n",
       "</table>\n",
       "</div>"
      ],
      "text/plain": [
       "  guide1 guide2  opp_pick_score  my_pick_score  outcome_score  round_score  \\\n",
       "0      A      Z               1              2              6            8   \n",
       "1      A      Z               1              2              6            8   \n",
       "2      C      Y               3              3              3            6   \n",
       "3      A      X               1              3              0            3   \n",
       "4      A      X               1              3              0            3   \n",
       "\n",
       "  guide_combo  \n",
       "0          AZ  \n",
       "1          AZ  \n",
       "2          CY  \n",
       "3          AX  \n",
       "4          AX  "
      ]
     },
     "execution_count": 14,
     "metadata": {},
     "output_type": "execute_result"
    }
   ],
   "source": [
    "df.head()"
   ]
  }
 ],
 "metadata": {
  "kernelspec": {
   "display_name": "Python 3",
   "language": "python",
   "name": "python3"
  },
  "language_info": {
   "codemirror_mode": {
    "name": "ipython",
    "version": 3
   },
   "file_extension": ".py",
   "mimetype": "text/x-python",
   "name": "python",
   "nbconvert_exporter": "python",
   "pygments_lexer": "ipython3",
   "version": "3.7.1"
  }
 },
 "nbformat": 4,
 "nbformat_minor": 2
}
