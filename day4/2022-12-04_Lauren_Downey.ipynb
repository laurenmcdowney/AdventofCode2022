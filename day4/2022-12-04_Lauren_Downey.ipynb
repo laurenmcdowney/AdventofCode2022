{
 "cells": [
  {
   "cell_type": "code",
   "execution_count": 1,
   "metadata": {},
   "outputs": [
    {
     "name": "stderr",
     "output_type": "stream",
     "text": [
      "C:\\Program Files\\Anaconda\\lib\\site-packages\\pandas\\compat\\_optional.py:138: UserWarning: Pandas requires version '2.7.0' or newer of 'numexpr' (version '2.6.8' currently installed).\n",
      "  warnings.warn(msg, UserWarning)\n"
     ]
    }
   ],
   "source": [
    "import pandas as pd"
   ]
  },
  {
   "cell_type": "markdown",
   "metadata": {},
   "source": [
    "#### Puzzle 1"
   ]
  },
  {
   "cell_type": "code",
   "execution_count": 2,
   "metadata": {},
   "outputs": [],
   "source": [
    "# Read data from txt file into a list of lists\n",
    "filename = 'AOC_day4_puzzle_input_Downey.txt'\n",
    "\n",
    "with open(filename) as f:\n",
    "    pairs = [line.rstrip('\\n').split(\",\") for line in f]"
   ]
  },
  {
   "cell_type": "code",
   "execution_count": 3,
   "metadata": {},
   "outputs": [],
   "source": [
    "# Function to explode a range into a list of integers\n",
    "def range_explode(x):\n",
    "    result = []\n",
    "    for rnge in x.split(\",\"):\n",
    "        a,b = rnge.split(\"-\")\n",
    "        a,b = int(a), int(b)\n",
    "        result.extend(range(a,b+1))\n",
    "    return result"
   ]
  },
  {
   "cell_type": "code",
   "execution_count": 4,
   "metadata": {
    "scrolled": true
   },
   "outputs": [],
   "source": [
    "# Create data frame with each elf's cleaning assignments\n",
    "elf_pairs = pd.DataFrame([[range_explode(i) for i in clean] for clean in pairs], columns = ['elf_1','elf_2'])\n",
    "#elf_pairs.head()"
   ]
  },
  {
   "cell_type": "code",
   "execution_count": 5,
   "metadata": {},
   "outputs": [],
   "source": [
    "# Which assignments fully contain another?\n",
    "elf_pairs['1_cont_2'] = elf_pairs.apply(lambda x: all(i in x.elf_1 for i in x.elf_2), axis=1).astype(int)\n",
    "elf_pairs['2_cont_1'] = elf_pairs.apply(lambda x: all(i in x.elf_2 for i in x.elf_1), axis=1).astype(int)"
   ]
  },
  {
   "cell_type": "code",
   "execution_count": 6,
   "metadata": {},
   "outputs": [
    {
     "data": {
      "text/plain": [
       "526"
      ]
     },
     "execution_count": 6,
     "metadata": {},
     "output_type": "execute_result"
    }
   ],
   "source": [
    "sum(elf_pairs[['1_cont_2', '2_cont_1']].max(axis=1))"
   ]
  },
  {
   "cell_type": "markdown",
   "metadata": {},
   "source": [
    "#### Puzzle 2"
   ]
  },
  {
   "cell_type": "code",
   "execution_count": 7,
   "metadata": {},
   "outputs": [],
   "source": [
    "# Which assignments overlap?\n",
    "elf_pairs['overlap'] = elf_pairs.apply(lambda x: any(i in x.elf_1 for i in x.elf_2), axis=1).astype(int)"
   ]
  },
  {
   "cell_type": "code",
   "execution_count": 8,
   "metadata": {},
   "outputs": [
    {
     "data": {
      "text/plain": [
       "886"
      ]
     },
     "execution_count": 8,
     "metadata": {},
     "output_type": "execute_result"
    }
   ],
   "source": [
    "sum(elf_pairs['overlap'])"
   ]
  },
  {
   "cell_type": "code",
   "execution_count": 9,
   "metadata": {},
   "outputs": [
    {
     "data": {
      "text/html": [
       "<div>\n",
       "<style scoped>\n",
       "    .dataframe tbody tr th:only-of-type {\n",
       "        vertical-align: middle;\n",
       "    }\n",
       "\n",
       "    .dataframe tbody tr th {\n",
       "        vertical-align: top;\n",
       "    }\n",
       "\n",
       "    .dataframe thead th {\n",
       "        text-align: right;\n",
       "    }\n",
       "</style>\n",
       "<table border=\"1\" class=\"dataframe\">\n",
       "  <thead>\n",
       "    <tr style=\"text-align: right;\">\n",
       "      <th></th>\n",
       "      <th>elf_1</th>\n",
       "      <th>elf_2</th>\n",
       "      <th>1_cont_2</th>\n",
       "      <th>2_cont_1</th>\n",
       "      <th>overlap</th>\n",
       "    </tr>\n",
       "  </thead>\n",
       "  <tbody>\n",
       "    <tr>\n",
       "      <th>0</th>\n",
       "      <td>[8, 9, 10, 11, 12, 13]</td>\n",
       "      <td>[10, 11, 12, 13, 14, 15, 16, 17, 18, 19, 20, 2...</td>\n",
       "      <td>0</td>\n",
       "      <td>0</td>\n",
       "      <td>1</td>\n",
       "    </tr>\n",
       "    <tr>\n",
       "      <th>1</th>\n",
       "      <td>[13, 14, 15, 16, 17, 18, 19, 20, 21, 22, 23]</td>\n",
       "      <td>[14, 15, 16, 17, 18, 19, 20, 21, 22, 23, 24]</td>\n",
       "      <td>0</td>\n",
       "      <td>0</td>\n",
       "      <td>1</td>\n",
       "    </tr>\n",
       "    <tr>\n",
       "      <th>2</th>\n",
       "      <td>[72, 73, 74, 75, 76, 77, 78, 79, 80, 81, 82, 83]</td>\n",
       "      <td>[73, 74, 75, 76]</td>\n",
       "      <td>1</td>\n",
       "      <td>0</td>\n",
       "      <td>1</td>\n",
       "    </tr>\n",
       "    <tr>\n",
       "      <th>3</th>\n",
       "      <td>[37]</td>\n",
       "      <td>[39, 40, 41, 42, 43, 44, 45, 46, 47, 48, 49, 5...</td>\n",
       "      <td>0</td>\n",
       "      <td>0</td>\n",
       "      <td>0</td>\n",
       "    </tr>\n",
       "    <tr>\n",
       "      <th>4</th>\n",
       "      <td>[64, 65, 66, 67, 68, 69, 70, 71, 72, 73, 74, 7...</td>\n",
       "      <td>[65]</td>\n",
       "      <td>1</td>\n",
       "      <td>0</td>\n",
       "      <td>1</td>\n",
       "    </tr>\n",
       "    <tr>\n",
       "      <th>5</th>\n",
       "      <td>[2]</td>\n",
       "      <td>[10, 11, 12, 13, 14, 15, 16, 17, 18, 19, 20, 2...</td>\n",
       "      <td>0</td>\n",
       "      <td>0</td>\n",
       "      <td>0</td>\n",
       "    </tr>\n",
       "    <tr>\n",
       "      <th>6</th>\n",
       "      <td>[53, 54, 55, 56, 57]</td>\n",
       "      <td>[24, 25, 26, 27, 28, 29, 30, 31, 32, 33, 34, 3...</td>\n",
       "      <td>0</td>\n",
       "      <td>0</td>\n",
       "      <td>1</td>\n",
       "    </tr>\n",
       "    <tr>\n",
       "      <th>7</th>\n",
       "      <td>[34, 35, 36, 37, 38, 39, 40, 41, 42, 43, 44, 4...</td>\n",
       "      <td>[34, 35, 36, 37, 38, 39, 40, 41, 42, 43, 44, 4...</td>\n",
       "      <td>0</td>\n",
       "      <td>1</td>\n",
       "      <td>1</td>\n",
       "    </tr>\n",
       "    <tr>\n",
       "      <th>8</th>\n",
       "      <td>[4, 5, 6, 7, 8, 9, 10, 11, 12, 13, 14, 15, 16,...</td>\n",
       "      <td>[3, 4, 5, 6, 7, 8, 9, 10, 11, 12, 13, 14, 15, ...</td>\n",
       "      <td>0</td>\n",
       "      <td>1</td>\n",
       "      <td>1</td>\n",
       "    </tr>\n",
       "    <tr>\n",
       "      <th>9</th>\n",
       "      <td>[69]</td>\n",
       "      <td>[68]</td>\n",
       "      <td>0</td>\n",
       "      <td>0</td>\n",
       "      <td>0</td>\n",
       "    </tr>\n",
       "  </tbody>\n",
       "</table>\n",
       "</div>"
      ],
      "text/plain": [
       "                                               elf_1  \\\n",
       "0                             [8, 9, 10, 11, 12, 13]   \n",
       "1       [13, 14, 15, 16, 17, 18, 19, 20, 21, 22, 23]   \n",
       "2   [72, 73, 74, 75, 76, 77, 78, 79, 80, 81, 82, 83]   \n",
       "3                                               [37]   \n",
       "4  [64, 65, 66, 67, 68, 69, 70, 71, 72, 73, 74, 7...   \n",
       "5                                                [2]   \n",
       "6                               [53, 54, 55, 56, 57]   \n",
       "7  [34, 35, 36, 37, 38, 39, 40, 41, 42, 43, 44, 4...   \n",
       "8  [4, 5, 6, 7, 8, 9, 10, 11, 12, 13, 14, 15, 16,...   \n",
       "9                                               [69]   \n",
       "\n",
       "                                               elf_2  1_cont_2  2_cont_1  \\\n",
       "0  [10, 11, 12, 13, 14, 15, 16, 17, 18, 19, 20, 2...         0         0   \n",
       "1       [14, 15, 16, 17, 18, 19, 20, 21, 22, 23, 24]         0         0   \n",
       "2                                   [73, 74, 75, 76]         1         0   \n",
       "3  [39, 40, 41, 42, 43, 44, 45, 46, 47, 48, 49, 5...         0         0   \n",
       "4                                               [65]         1         0   \n",
       "5  [10, 11, 12, 13, 14, 15, 16, 17, 18, 19, 20, 2...         0         0   \n",
       "6  [24, 25, 26, 27, 28, 29, 30, 31, 32, 33, 34, 3...         0         0   \n",
       "7  [34, 35, 36, 37, 38, 39, 40, 41, 42, 43, 44, 4...         0         1   \n",
       "8  [3, 4, 5, 6, 7, 8, 9, 10, 11, 12, 13, 14, 15, ...         0         1   \n",
       "9                                               [68]         0         0   \n",
       "\n",
       "   overlap  \n",
       "0        1  \n",
       "1        1  \n",
       "2        1  \n",
       "3        0  \n",
       "4        1  \n",
       "5        0  \n",
       "6        1  \n",
       "7        1  \n",
       "8        1  \n",
       "9        0  "
      ]
     },
     "execution_count": 9,
     "metadata": {},
     "output_type": "execute_result"
    }
   ],
   "source": [
    "elf_pairs.head(10)"
   ]
  }
 ],
 "metadata": {
  "kernelspec": {
   "display_name": "Python 3",
   "language": "python",
   "name": "python3"
  },
  "language_info": {
   "codemirror_mode": {
    "name": "ipython",
    "version": 3
   },
   "file_extension": ".py",
   "mimetype": "text/x-python",
   "name": "python",
   "nbconvert_exporter": "python",
   "pygments_lexer": "ipython3",
   "version": "3.7.1"
  }
 },
 "nbformat": 4,
 "nbformat_minor": 2
}
